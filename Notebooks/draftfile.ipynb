{
 "cells": [
  {
   "cell_type": "code",
   "execution_count": 1,
   "id": "9bebd6d3",
   "metadata": {},
   "outputs": [
    {
     "name": "stdout",
     "output_type": "stream",
     "text": [
      "Collecting numpy\n",
      "  Downloading numpy-2.3.3-cp311-cp311-manylinux_2_27_aarch64.manylinux_2_28_aarch64.whl.metadata (62 kB)\n",
      "Downloading numpy-2.3.3-cp311-cp311-manylinux_2_27_aarch64.manylinux_2_28_aarch64.whl (14.6 MB)\n",
      "\u001b[2K   \u001b[90m━━━━━━━━━━━━━━━━━━━━━━━━━━━━━━━━━━━━━━━━\u001b[0m \u001b[32m14.6/14.6 MB\u001b[0m \u001b[31m3.5 MB/s\u001b[0m  \u001b[33m0:00:04\u001b[0mm0:00:01\u001b[0m00:01\u001b[0m\n",
      "\u001b[?25hInstalling collected packages: numpy\n",
      "Successfully installed numpy-2.3.3\n",
      "Note: you may need to restart the kernel to use updated packages.\n"
     ]
    }
   ],
   "source": [
    "pip install numpy"
   ]
  },
  {
   "cell_type": "code",
   "execution_count": 2,
   "id": "b8e4738a",
   "metadata": {},
   "outputs": [],
   "source": [
    "import numpy as np"
   ]
  },
  {
   "cell_type": "code",
   "execution_count": 6,
   "id": "7db9110c",
   "metadata": {},
   "outputs": [
    {
     "data": {
      "text/plain": [
       "array([[           nan,            nan,            nan],\n",
       "       [0.00000000e+00, 6.82100000e+03, 3.00000000e+00],\n",
       "       [1.00000000e+00, 6.83700000e+03, 3.00000000e+00],\n",
       "       ...,\n",
       "       [3.06500000e+03, 9.40380128e+09, 1.50000000e+00],\n",
       "       [3.06600000e+03, 9.40380137e+09, 0.00000000e+00],\n",
       "       [3.06700000e+03, 9.40380158e+09, 0.00000000e+00]], shape=(3069, 3))"
      ]
     },
     "metadata": {},
     "output_type": "display_data"
    }
   ],
   "source": [
    "data = np.genfromtxt(\"../data/samiDR3VisualMorphology.csv\", delimiter=\",\")\n",
    "display(data)"
   ]
  },
  {
   "cell_type": "code",
   "execution_count": 8,
   "id": "f83abec4",
   "metadata": {},
   "outputs": [
    {
     "data": {
      "text/plain": [
       "array([[          nan,           nan,           nan, ...,           nan,\n",
       "                  nan,           nan],\n",
       "       [0.0000000e+00,           nan,           nan, ...,           nan,\n",
       "                  nan,           nan],\n",
       "       [1.0000000e+00,           nan,           nan, ...,           nan,\n",
       "                  nan,           nan],\n",
       "       ...,\n",
       "       [3.4230000e+03,           nan,           nan, ..., 2.8423125e-02,\n",
       "        4.3479696e-02, 1.0705982e-02],\n",
       "       [3.4240000e+03,           nan,           nan, ..., 1.8196009e-03,\n",
       "                  nan,           nan],\n",
       "       [3.4250000e+03,           nan,           nan, ...,           nan,\n",
       "                  nan,           nan]], shape=(3427, 45))"
      ]
     },
     "metadata": {},
     "output_type": "display_data"
    }
   ],
   "source": [
    "stelkindata = np.genfromtxt(\"../data/samiDR3StelKin.csv\", delimiter=\",\")\n",
    "display(stelkindata)"
   ]
  }
 ],
 "metadata": {
  "kernelspec": {
   "display_name": ".venv",
   "language": "python",
   "name": "python3"
  },
  "language_info": {
   "codemirror_mode": {
    "name": "ipython",
    "version": 3
   },
   "file_extension": ".py",
   "mimetype": "text/x-python",
   "name": "python",
   "nbconvert_exporter": "python",
   "pygments_lexer": "ipython3",
   "version": "3.11.2"
  }
 },
 "nbformat": 4,
 "nbformat_minor": 5
}
