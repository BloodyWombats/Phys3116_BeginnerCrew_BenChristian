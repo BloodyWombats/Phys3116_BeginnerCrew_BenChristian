{
 "cells": [
  {
   "cell_type": "code",
   "execution_count": 1,
   "id": "ee5a1cbd",
   "metadata": {},
   "outputs": [
    {
     "name": "stdout",
     "output_type": "stream",
     "text": [
      "Libraries loaded successfully!\n"
     ]
    }
   ],
   "source": [
    "# --- Cell 1: Import the Python libraries we will use ---\n",
    "\n",
    "# pandas is used for reading CSV files and working with tables\n",
    "import pandas as pd\n",
    "\n",
    "# numpy is used for maths and numerical operations\n",
    "import numpy as np\n",
    "\n",
    "# matplotlib is used for making plots and graphs\n",
    "import matplotlib.pyplot as plt\n",
    "\n",
    "# This line makes plots appear inside the notebook instead of a new window\n",
    "%matplotlib inline\n",
    "\n",
    "print(\"Libraries loaded successfully!\")\n",
    "\n"
   ]
  }
 ],
 "metadata": {
  "kernelspec": {
   "display_name": "Python 3",
   "language": "python",
   "name": "python3"
  },
  "language_info": {
   "codemirror_mode": {
    "name": "ipython",
    "version": 3
   },
   "file_extension": ".py",
   "mimetype": "text/x-python",
   "name": "python",
   "nbconvert_exporter": "python",
   "pygments_lexer": "ipython3",
   "version": "3.13.7"
  }
 },
 "nbformat": 4,
 "nbformat_minor": 5
}
