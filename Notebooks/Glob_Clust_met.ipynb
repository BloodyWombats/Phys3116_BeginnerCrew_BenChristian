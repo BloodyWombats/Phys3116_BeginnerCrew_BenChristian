{
  "cells": [
    {
      "cell_type": "code",
      "execution_count": null,
      "id": "0612326f",
      "metadata": {
        "colab": {
          "base_uri": "https://localhost:8080/"
        },
        "id": "0612326f",
        "outputId": "3bc45760-fd4a-4831-e53f-40a40595a9de"
      },
      "outputs": [
        {
          "name": "stdout",
          "output_type": "stream",
          "text": [
            "Requirement already satisfied: numpy in c:\\users\\bendo\\appdata\\local\\programs\\python\\python313\\lib\\site-packages (2.3.3)\n",
            "Note: you may need to restart the kernel to use updated packages.\n"
          ]
        }
      ],
      "source": [
        "pip install numpy"
      ]
    },
    {
      "cell_type": "code",
      "execution_count": null,
      "id": "CpzQRW735T_e",
      "metadata": {
        "colab": {
          "base_uri": "https://localhost:8080/"
        },
        "id": "CpzQRW735T_e",
        "outputId": "0e43cbaf-9cb5-43e5-b7af-38915e3163be"
      },
      "outputs": [
        {
          "name": "stdout",
          "output_type": "stream",
          "text": [
            "Requirement already satisfied: astropy in c:\\users\\bendo\\appdata\\local\\programs\\python\\python313\\lib\\site-packages (7.1.0)\n",
            "Requirement already satisfied: numpy>=1.23.2 in c:\\users\\bendo\\appdata\\local\\programs\\python\\python313\\lib\\site-packages (from astropy) (2.3.3)\n",
            "Requirement already satisfied: pyerfa>=2.0.1.1 in c:\\users\\bendo\\appdata\\local\\programs\\python\\python313\\lib\\site-packages (from astropy) (2.0.1.5)\n",
            "Requirement already satisfied: astropy-iers-data>=0.2025.4.28.0.37.27 in c:\\users\\bendo\\appdata\\local\\programs\\python\\python313\\lib\\site-packages (from astropy) (0.2025.9.29.0.35.48)\n",
            "Requirement already satisfied: PyYAML>=6.0.0 in c:\\users\\bendo\\appdata\\local\\programs\\python\\python313\\lib\\site-packages (from astropy) (6.0.3)\n",
            "Requirement already satisfied: packaging>=22.0.0 in c:\\users\\bendo\\appdata\\roaming\\python\\python313\\site-packages (from astropy) (25.0)\n",
            "Note: you may need to restart the kernel to use updated packages.\n"
          ]
        }
      ],
      "source": [
        "pip install astropy"
      ]
    },
    {
      "cell_type": "code",
      "execution_count": null,
      "id": "zPoedGyV5Xyx",
      "metadata": {
        "colab": {
          "base_uri": "https://localhost:8080/"
        },
        "id": "zPoedGyV5Xyx",
        "outputId": "bc5289af-74c0-45c1-e000-382b40b7e581"
      },
      "outputs": [
        {
          "name": "stdout",
          "output_type": "stream",
          "text": [
            "Requirement already satisfied: matplotlib in c:\\users\\bendo\\appdata\\local\\programs\\python\\python313\\lib\\site-packages (3.10.6)\n",
            "Requirement already satisfied: contourpy>=1.0.1 in c:\\users\\bendo\\appdata\\local\\programs\\python\\python313\\lib\\site-packages (from matplotlib) (1.3.3)\n",
            "Requirement already satisfied: cycler>=0.10 in c:\\users\\bendo\\appdata\\local\\programs\\python\\python313\\lib\\site-packages (from matplotlib) (0.12.1)\n",
            "Requirement already satisfied: fonttools>=4.22.0 in c:\\users\\bendo\\appdata\\local\\programs\\python\\python313\\lib\\site-packages (from matplotlib) (4.60.1)\n",
            "Requirement already satisfied: kiwisolver>=1.3.1 in c:\\users\\bendo\\appdata\\local\\programs\\python\\python313\\lib\\site-packages (from matplotlib) (1.4.9)\n",
            "Requirement already satisfied: numpy>=1.23 in c:\\users\\bendo\\appdata\\local\\programs\\python\\python313\\lib\\site-packages (from matplotlib) (2.3.3)\n",
            "Requirement already satisfied: packaging>=20.0 in c:\\users\\bendo\\appdata\\roaming\\python\\python313\\site-packages (from matplotlib) (25.0)\n",
            "Requirement already satisfied: pillow>=8 in c:\\users\\bendo\\appdata\\local\\programs\\python\\python313\\lib\\site-packages (from matplotlib) (11.3.0)\n",
            "Requirement already satisfied: pyparsing>=2.3.1 in c:\\users\\bendo\\appdata\\local\\programs\\python\\python313\\lib\\site-packages (from matplotlib) (3.2.5)\n",
            "Requirement already satisfied: python-dateutil>=2.7 in c:\\users\\bendo\\appdata\\roaming\\python\\python313\\site-packages (from matplotlib) (2.9.0.post0)\n",
            "Requirement already satisfied: six>=1.5 in c:\\users\\bendo\\appdata\\roaming\\python\\python313\\site-packages (from python-dateutil>=2.7->matplotlib) (1.17.0)\n",
            "Note: you may need to restart the kernel to use updated packages.\n"
          ]
        }
      ],
      "source": [
        "pip install matplotlib"
      ]
    },
    {
      "cell_type": "code",
      "execution_count": null,
      "id": "OGb6n01v5oWm",
      "metadata": {
        "id": "OGb6n01v5oWm"
      },
      "outputs": [],
      "source": [
        "import numpy as np\n",
        "import matplotlib.pyplot as plt\n",
        "from astropy.table import Table\n",
        "from astropy.io import ascii, fits\n",
        "\n",
        "harris_1 = ascii.read(\"HarrisPartI.csv\")\n",
        "harris_2 = ascii.read(\"HarrisPartIII.csv\")\n",
        "krause = ascii.read(\"Krause21.csv\")\n",
        "vdb = ascii.read(\"vandenBerg_table2.csv\")"
      ]
    },
    {
      "cell_type": "code",
      "execution_count": null,
      "id": "H-bDMdcQFVZL",
      "metadata": {
        "colab": {
          "base_uri": "https://localhost:8080/"
        },
        "id": "H-bDMdcQFVZL",
        "outputId": "ef8e1610-3531-4127-b9a5-ccd23c2db623"
      },
      "outputs": [
        {
          "name": "stdout",
          "output_type": "stream",
          "text": [
            "Harris 1 Columns ['ID', 'Name', 'RA', 'DEC', 'L', 'B', 'R_Sun', 'R_gc', 'X', 'Y', 'Z']\n",
            "Harris 2 Columns ['ID', 'v_r', 'v_r_e', 'v_LSR', 'sig_v', 'sig_v_e', 'c', 'r_c', 'r_h', 'mu_V', 'rho_0', 'lg_tc', 'lg_th']\n",
            "Krause Columns ['Class', 'Object', 'AltName', 'Mstar', 'rh', 'C5', 'Age', 'FeH']\n",
            "VandenBerg Columns ['NGC', 'Name', 'FeH', 'Age', 'Age_err', 'Method', 'Figs', 'Range', 'HBtype', 'R_G', 'M_V', 'v_e0', 'log_sigma_0']\n"
          ]
        }
      ],
      "source": [
        "#Identifies Columns for Files\n",
        "print(\"Harris 1 Columns\", harris_1.colnames)\n",
        "print(\"Harris 2 Columns\", harris_2.colnames)\n",
        "print(\"Krause Columns\", krause.colnames)\n",
        "print(\"VandenBerg Columns\", vdb.colnames)"
      ]
    },
    {
      "cell_type": "code",
      "execution_count": null,
      "id": "vPVoR56ZFdyM",
      "metadata": {
        "id": "vPVoR56ZFdyM"
      },
      "outputs": [],
      "source": [
        "#Convert Column Values into NumPy Arrays\n",
        "\n",
        "#Age-Metalicity: Krause\n",
        "k_age = np.array(krause['Age'], dtype=float)\n",
        "k_met = np.array(krause['FeH'], dtype=float)\n",
        "k_ob = np.array(krause['Object'], dtype=str)\n",
        "\n",
        "#Age-Metalicity: VandenBerg\n",
        "vb_age = np.array(vdb['Age'], dtype=float)\n",
        "vb_met = np.array(vdb['FeH'], dtype=float)\n",
        "vb_name = np.array(vdb['Name'], dtype=str)"
      ]
    },
    {
      "cell_type": "code",
      "execution_count": null,
      "id": "ba85ad85",
      "metadata": {
        "id": "ba85ad85",
        "outputId": "ec93b259-73d0-4d5b-9386-16623d75a2d4"
      },
      "outputs": [
        {
          "data": {
            "image/png": "[encoded data removed]",
            "text/plain": [
              "<Figure size 600x400 with 1 Axes>"
            ]
          },
          "metadata": {},
          "output_type": "display_data"
        }
      ],
      "source": [
        "#Visual Graphs of AMR\n",
        "\n",
        "#Krause:\n",
        "plt.figure(figsize=(6,4))\n",
        "plt.scatter(k_age, k_met, s=20, c='royalblue', label='Krause Clusters')\n",
        "plt.xlabel('Age (Gyr)')\n",
        "plt.ylabel('[Fe/H] (Metalicity)')\n",
        "plt.title('Age–Metallicity Relation')\n",
        "plt.legend()\n",
        "plt.grid(True)\n",
        "plt.tight_layout()\n",
        "plt.show()\n"
      ]
    },
    {
      "cell_type": "code",
      "execution_count": null,
      "id": "ae2d3161",
      "metadata": {
        "id": "ae2d3161",
        "outputId": "9671b4c9-3d67-4912-afb6-2a1b522e40b7"
      },
      "outputs": [
        {
          "data": {
            "image/png": "[encoded data removed]",
            "text/plain": [
              "<Figure size 600x400 with 1 Axes>"
            ]
          },
          "metadata": {},
          "output_type": "display_data"
        }
      ],
      "source": [
        "#VandenBerg:\n",
        "plt.figure(figsize=(6,4))\n",
        "plt.scatter(vb_age, vb_met, s=20, c='royalblue', label='VandenBerg Clusters')\n",
        "plt.xlabel('Age (Gyr)')\n",
        "plt.ylabel('[Fe/H] (Metalicity)')\n",
        "plt.title('Age–Metallicity Relation')\n",
        "plt.legend()\n",
        "plt.grid(True)\n",
        "plt.tight_layout()\n",
        "plt.show()\n"
      ]
    },
    {
      "cell_type": "code",
      "source": [
        "# The following Code will be used to fine the outliers over a given threshold of both metalicity and age.\n",
        "\n",
        "# Outliers in Lower End Metalicty for Krause\n",
        "mean_krause_met = np.mean(k_met)\n",
        "std_krause_met = np.std(k_met)\n",
        "\n",
        "# Threshold can Remain consistent to find values within 2 standard deviations\n",
        "threshold_1 = 2\n",
        "\n",
        "krause_lowmet = k_met[(k_met < (mean_krause_met - threshold_1*std_krause_met))]\n",
        "\n",
        "print(\"Low-End Outliers in Metalicity\", krause_lowmet)"
      ],
      "metadata": {
        "id": "XIyoZ4kgL2Ed",
        "outputId": "7e134513-7026-4ab5-e166-4a20868a7aee",
        "colab": {
          "base_uri": "https://localhost:8080/"
        }
      },
      "id": "XIyoZ4kgL2Ed",
      "execution_count": 8,
      "outputs": [
        {
          "output_type": "stream",
          "name": "stdout",
          "text": [
            "Low-End Outliers in Metalicity []\n"
          ]
        }
      ]
    },
    {
      "cell_type": "code",
      "source": [
        "\n",
        "# Repeat to find higher-end for age\n",
        "\n",
        "mean_krause_age = np.mean(k_age)\n",
        "std_krause_age = np.std(k_age)\n",
        "\n",
        "krause_hiage = k_age[(k_age > (mean_krause_age + threshold_1*std_krause_age))]\n",
        "\n",
        "print(\"High-End Outliers in Age\", krause_hiage)\n",
        "\n",
        "# Visibly there are no intersections between these two sets, implying the threshold may need adjusting.\n"
      ],
      "metadata": {
        "id": "BceUxuiKL7O7",
        "outputId": "762f5430-bca4-492d-c067-5bf1cc6ca1a9",
        "colab": {
          "base_uri": "https://localhost:8080/"
        }
      },
      "id": "BceUxuiKL7O7",
      "execution_count": 10,
      "outputs": [
        {
          "output_type": "stream",
          "name": "stdout",
          "text": [
            "High-End Outliers in Age []\n"
          ]
        }
      ]
    }
  ],
  "metadata": {
    "colab": {
      "provenance": []
    },
    "kernelspec": {
      "display_name": "Python 3",
      "name": "python3"
    },
    "language_info": {
      "codemirror_mode": {
        "name": "ipython",
        "version": 3
      },
      "file_extension": ".py",
      "mimetype": "text/x-python",
      "name": "python",
      "nbconvert_exporter": "python",
      "pygments_lexer": "ipython3",
      "version": "3.13.7"
    }
  },
  "nbformat": 4,
  "nbformat_minor": 5
}